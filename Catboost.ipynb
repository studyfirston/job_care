{
 "cells": [
  {
   "cell_type": "code",
   "execution_count": 58,
   "metadata": {},
   "outputs": [],
   "source": [
    "DATA_PATH = \"data/\"\n",
    "SUBMIT_PATH = \"submit/\"\n",
    "SEED = 42"
   ]
  },
  {
   "cell_type": "code",
   "execution_count": 59,
   "metadata": {},
   "outputs": [],
   "source": [
    "import os\n",
    "import sys\n",
    "import platform\n",
    "import random\n",
    "import math\n",
    "from typing import List ,Dict, Tuple\n",
    "\n",
    "import pandas as pd\n",
    "import numpy as np\n",
    " \n",
    "import sklearn \n",
    "from sklearn.model_selection import StratifiedKFold , KFold\n",
    "from sklearn.metrics import f1_score \n",
    "\n",
    "from catboost import Pool,CatBoostClassifier\n",
    "from datetime import datetime"
   ]
  },
  {
   "cell_type": "code",
   "execution_count": 60,
   "metadata": {},
   "outputs": [
    {
     "data": {
      "text/plain": [
       "((501951, 35), (46404, 34))"
      ]
     },
     "execution_count": 60,
     "metadata": {},
     "output_type": "execute_result"
    }
   ],
   "source": [
    "train_data = pd.read_csv(f'{DATA_PATH}train.csv')\n",
    "test_data = pd.read_csv(f'{DATA_PATH}test.csv')\n",
    "\n",
    "\n",
    "train_data.shape , test_data.shape"
   ]
  },
  {
   "cell_type": "code",
   "execution_count": 61,
   "metadata": {},
   "outputs": [
    {
     "data": {
      "text/html": [
       "<div>\n",
       "<style scoped>\n",
       "    .dataframe tbody tr th:only-of-type {\n",
       "        vertical-align: middle;\n",
       "    }\n",
       "\n",
       "    .dataframe tbody tr th {\n",
       "        vertical-align: top;\n",
       "    }\n",
       "\n",
       "    .dataframe thead th {\n",
       "        text-align: right;\n",
       "    }\n",
       "</style>\n",
       "<table border=\"1\" class=\"dataframe\">\n",
       "  <thead>\n",
       "    <tr style=\"text-align: right;\">\n",
       "      <th></th>\n",
       "      <th>id</th>\n",
       "      <th>d_l_match_yn</th>\n",
       "      <th>d_m_match_yn</th>\n",
       "      <th>d_s_match_yn</th>\n",
       "      <th>h_l_match_yn</th>\n",
       "      <th>h_m_match_yn</th>\n",
       "      <th>h_s_match_yn</th>\n",
       "      <th>person_attribute_a</th>\n",
       "      <th>person_attribute_a_1</th>\n",
       "      <th>person_attribute_b</th>\n",
       "      <th>...</th>\n",
       "      <th>contents_attribute_l</th>\n",
       "      <th>contents_attribute_d</th>\n",
       "      <th>contents_attribute_m</th>\n",
       "      <th>contents_attribute_e</th>\n",
       "      <th>contents_attribute_h</th>\n",
       "      <th>person_rn</th>\n",
       "      <th>contents_rn</th>\n",
       "      <th>contents_open_dt</th>\n",
       "      <th>target</th>\n",
       "      <th>hour</th>\n",
       "    </tr>\n",
       "  </thead>\n",
       "  <tbody>\n",
       "    <tr>\n",
       "      <th>0</th>\n",
       "      <td>0</td>\n",
       "      <td>True</td>\n",
       "      <td>True</td>\n",
       "      <td>True</td>\n",
       "      <td>False</td>\n",
       "      <td>False</td>\n",
       "      <td>False</td>\n",
       "      <td>1</td>\n",
       "      <td>4</td>\n",
       "      <td>3</td>\n",
       "      <td>...</td>\n",
       "      <td>1608</td>\n",
       "      <td>275</td>\n",
       "      <td>1</td>\n",
       "      <td>4</td>\n",
       "      <td>139</td>\n",
       "      <td>618822</td>\n",
       "      <td>354805</td>\n",
       "      <td>2020-01-17 12:09:36</td>\n",
       "      <td>1</td>\n",
       "      <td>12</td>\n",
       "    </tr>\n",
       "    <tr>\n",
       "      <th>1</th>\n",
       "      <td>1</td>\n",
       "      <td>False</td>\n",
       "      <td>False</td>\n",
       "      <td>False</td>\n",
       "      <td>True</td>\n",
       "      <td>True</td>\n",
       "      <td>False</td>\n",
       "      <td>1</td>\n",
       "      <td>3</td>\n",
       "      <td>4</td>\n",
       "      <td>...</td>\n",
       "      <td>1608</td>\n",
       "      <td>275</td>\n",
       "      <td>1</td>\n",
       "      <td>4</td>\n",
       "      <td>133</td>\n",
       "      <td>571659</td>\n",
       "      <td>346213</td>\n",
       "      <td>2020-06-18 17:48:52</td>\n",
       "      <td>0</td>\n",
       "      <td>17</td>\n",
       "    </tr>\n",
       "    <tr>\n",
       "      <th>2</th>\n",
       "      <td>2</td>\n",
       "      <td>False</td>\n",
       "      <td>False</td>\n",
       "      <td>False</td>\n",
       "      <td>True</td>\n",
       "      <td>False</td>\n",
       "      <td>False</td>\n",
       "      <td>2</td>\n",
       "      <td>0</td>\n",
       "      <td>3</td>\n",
       "      <td>...</td>\n",
       "      <td>1600</td>\n",
       "      <td>94</td>\n",
       "      <td>1</td>\n",
       "      <td>4</td>\n",
       "      <td>53</td>\n",
       "      <td>399816</td>\n",
       "      <td>206408</td>\n",
       "      <td>2020-07-08 20:00:10</td>\n",
       "      <td>0</td>\n",
       "      <td>20</td>\n",
       "    </tr>\n",
       "  </tbody>\n",
       "</table>\n",
       "<p>3 rows × 36 columns</p>\n",
       "</div>"
      ],
      "text/plain": [
       "   id  d_l_match_yn  d_m_match_yn  d_s_match_yn  h_l_match_yn  h_m_match_yn  \\\n",
       "0   0          True          True          True         False         False   \n",
       "1   1         False         False         False          True          True   \n",
       "2   2         False         False         False          True         False   \n",
       "\n",
       "   h_s_match_yn  person_attribute_a  person_attribute_a_1  person_attribute_b  \\\n",
       "0         False                   1                     4                   3   \n",
       "1         False                   1                     3                   4   \n",
       "2         False                   2                     0                   3   \n",
       "\n",
       "   ...  contents_attribute_l  contents_attribute_d  contents_attribute_m  \\\n",
       "0  ...                  1608                   275                     1   \n",
       "1  ...                  1608                   275                     1   \n",
       "2  ...                  1600                    94                     1   \n",
       "\n",
       "   contents_attribute_e  contents_attribute_h  person_rn  contents_rn  \\\n",
       "0                     4                   139     618822       354805   \n",
       "1                     4                   133     571659       346213   \n",
       "2                     4                    53     399816       206408   \n",
       "\n",
       "     contents_open_dt  target  hour  \n",
       "0 2020-01-17 12:09:36       1    12  \n",
       "1 2020-06-18 17:48:52       0    17  \n",
       "2 2020-07-08 20:00:10       0    20  \n",
       "\n",
       "[3 rows x 36 columns]"
      ]
     },
     "execution_count": 61,
     "metadata": {},
     "output_type": "execute_result"
    }
   ],
   "source": [
    "# hour 변수를 넣기 위해서 추가\n",
    "train_data['contents_open_dt'] = train_data['contents_open_dt'].apply(lambda x: datetime.strptime(x, '%Y-%m-%d %H:%M:%S'))\n",
    "test_data['contents_open_dt'] = test_data['contents_open_dt'].apply(lambda x: datetime.strptime(x, '%Y-%m-%d %H:%M:%S'))\n",
    "\n",
    "train_data['hour'] = train_data['contents_open_dt'].apply(lambda x : x.timetuple()[3])\n",
    "test_data['hour'] = test_data['contents_open_dt'].apply(lambda x : x.timetuple()[3])\n",
    "\n",
    "train_data.head(3)"
   ]
  },
  {
   "cell_type": "code",
   "execution_count": 62,
   "metadata": {},
   "outputs": [],
   "source": [
    "# Train data EDA에 따라서\n",
    "# good - mid - low time (target에 따라서 good <-> low 범위)\n",
    "# low : 23~07\n",
    "# mid : 17~22\n",
    "# good : 8~16\n",
    "train_data.loc[train_data['hour']<=7, 'hour_band'] = 'low_time'\n",
    "train_data.loc[train_data['hour']==23, 'hour_band'] = 'low_time'\n",
    "\n",
    "train_data.loc[(train_data['hour']>7) & (train_data['hour'] <= 16), 'hour_band'] = 'good_time'\n",
    "train_data.loc[(train_data['hour']>=17) & (train_data['hour']<=22), 'hour_band'] = 'mid_time'\n",
    "train_data = train_data.drop(columns = ['hour'])\n",
    "\n",
    "test_data.loc[test_data['hour']<=7, 'hour_band'] = 'low_time'\n",
    "test_data.loc[test_data['hour']==23, 'hour_band'] = 'low_time'\n",
    "\n",
    "test_data.loc[(test_data['hour']>7) & (test_data['hour'] <= 16), 'hour_band'] = 'good_time'\n",
    "test_data.loc[(test_data['hour']>=17) & (test_data['hour']<=22), 'hour_band'] = 'mid_time'\n",
    "test_data = test_data.drop(columns = ['hour'])"
   ]
  },
  {
   "cell_type": "code",
   "execution_count": 63,
   "metadata": {},
   "outputs": [],
   "source": [
    "from typing import Dict\n",
    "import numpy as np\n",
    "import pandas as pd\n",
    "\n",
    "def add_code(\n",
    "    df: pd.DataFrame,\n",
    "    d_code: Dict[int, Dict[str, int]], \n",
    "    h_code: Dict[int, Dict[str, int]], \n",
    "    l_code: Dict[int, Dict[str, int]],\n",
    ") -> pd.DataFrame:\n",
    "    \n",
    "    # Copy input data\n",
    "    df = df.copy()   \n",
    "\n",
    "    # D Code\n",
    "    df['person_prefer_d_1_n'] = df['person_prefer_d_1'].apply(lambda x: d_code[x]['속성 D 세분류코드'])\n",
    "    df['person_prefer_d_1_s'] = df['person_prefer_d_1'].apply(lambda x: d_code[x]['속성 D 소분류코드'])\n",
    "    df['person_prefer_d_1_m'] = df['person_prefer_d_1'].apply(lambda x: d_code[x]['속성 D 중분류코드'])\n",
    "    df['person_prefer_d_1_l'] = df['person_prefer_d_1'].apply(lambda x: d_code[x]['속성 D 대분류코드'])\n",
    "\n",
    "    df['person_prefer_d_2_n'] = df['person_prefer_d_2'].apply(lambda x: d_code[x]['속성 D 세분류코드'])\n",
    "    df['person_prefer_d_2_s'] = df['person_prefer_d_2'].apply(lambda x: d_code[x]['속성 D 소분류코드'])\n",
    "    df['person_prefer_d_2_m'] = df['person_prefer_d_2'].apply(lambda x: d_code[x]['속성 D 중분류코드'])\n",
    "    df['person_prefer_d_2_l'] = df['person_prefer_d_2'].apply(lambda x: d_code[x]['속성 D 대분류코드'])\n",
    "\n",
    "    df['person_prefer_d_3_n'] = df['person_prefer_d_3'].apply(lambda x: d_code[x]['속성 D 세분류코드'])\n",
    "    df['person_prefer_d_3_s'] = df['person_prefer_d_3'].apply(lambda x: d_code[x]['속성 D 소분류코드'])\n",
    "    df['person_prefer_d_3_m'] = df['person_prefer_d_3'].apply(lambda x: d_code[x]['속성 D 중분류코드'])\n",
    "    df['person_prefer_d_3_l'] = df['person_prefer_d_3'].apply(lambda x: d_code[x]['속성 D 대분류코드'])\n",
    "\n",
    "    df['contents_attribute_d_n'] = df['contents_attribute_d'].apply(lambda x: d_code[x]['속성 D 세분류코드'])\n",
    "    df['contents_attribute_d_s'] = df['contents_attribute_d'].apply(lambda x: d_code[x]['속성 D 소분류코드'])\n",
    "    df['contents_attribute_d_m'] = df['contents_attribute_d'].apply(lambda x: d_code[x]['속성 D 중분류코드'])\n",
    "    df['contents_attribute_d_l'] = df['contents_attribute_d'].apply(lambda x: d_code[x]['속성 D 대분류코드'])\n",
    "\n",
    "    # H Code\n",
    "    df['person_prefer_h_1_l'] = df['person_prefer_h_1'].apply(lambda x: h_code[x]['속성 H 대분류코드'])\n",
    "    df['person_prefer_h_1_m'] = df['person_prefer_h_1'].apply(lambda x: h_code[x]['속성 H 중분류코드'])\n",
    "    \n",
    "    df['person_prefer_h_2_l'] = df['person_prefer_h_2'].apply(lambda x: h_code[x]['속성 H 대분류코드'])\n",
    "    df['person_prefer_h_2_m'] = df['person_prefer_h_2'].apply(lambda x: h_code[x]['속성 H 중분류코드'])\n",
    "    \n",
    "    df['person_prefer_h_3_l'] = df['person_prefer_h_3'].apply(lambda x: h_code[x]['속성 H 대분류코드'])\n",
    "    df['person_prefer_h_3_m'] = df['person_prefer_h_3'].apply(lambda x: h_code[x]['속성 H 중분류코드'])\n",
    "\n",
    "    df['contents_attribute_h_l'] = df['contents_attribute_h'].apply(lambda x: h_code[x]['속성 H 대분류코드'])\n",
    "    df['contents_attribute_h_m'] = df['contents_attribute_h'].apply(lambda x: h_code[x]['속성 H 중분류코드'])\n",
    "\n",
    "    # L Code\n",
    "    df['contents_attribute_l_n'] = df['contents_attribute_l'].apply(lambda x: l_code[x]['속성 L 세분류코드'])\n",
    "    df['contents_attribute_l_s'] = df['contents_attribute_l'].apply(lambda x: l_code[x]['속성 L 소분류코드'])\n",
    "    df['contents_attribute_l_m'] = df['contents_attribute_l'].apply(lambda x: l_code[x]['속성 L 중분류코드'])\n",
    "    df['contents_attribute_l_l'] = df['contents_attribute_l'].apply(lambda x: l_code[x]['속성 L 대분류코드'])\n",
    "    \n",
    "    return df"
   ]
  },
  {
   "cell_type": "code",
   "execution_count": 64,
   "metadata": {},
   "outputs": [],
   "source": [
    "d_code = pd.read_csv('data/속성_D_코드.csv', index_col=0).T.to_dict()\n",
    "h_code = pd.read_csv('data/속성_H_코드.csv', index_col=0).T.to_dict()\n",
    "l_code = pd.read_csv('data/속성_L_코드.csv', index_col=0).T.to_dict()\n",
    "\n",
    "\n",
    "train_data = add_code(train_data, d_code, h_code, l_code)\n",
    "test_data = add_code(test_data, d_code, h_code, l_code)"
   ]
  },
  {
   "cell_type": "code",
   "execution_count": 67,
   "metadata": {},
   "outputs": [
    {
     "data": {
      "text/plain": [
       "Index(['d_l_match_yn', 'd_m_match_yn', 'd_s_match_yn', 'h_l_match_yn',\n",
       "       'h_m_match_yn', 'h_s_match_yn', 'person_attribute_a',\n",
       "       'person_attribute_a_1', 'person_attribute_b', 'person_prefer_c',\n",
       "       'person_prefer_d_1', 'person_prefer_d_2', 'person_prefer_d_3',\n",
       "       'person_prefer_e', 'person_prefer_h_1', 'person_prefer_h_2',\n",
       "       'person_prefer_h_3', 'contents_attribute_i', 'contents_attribute_a',\n",
       "       'contents_attribute_j_1', 'contents_attribute_j',\n",
       "       'contents_attribute_c', 'contents_attribute_k', 'contents_attribute_l',\n",
       "       'contents_attribute_d', 'contents_attribute_m', 'contents_attribute_e',\n",
       "       'contents_attribute_h', 'person_rn', 'target', 'hour_band',\n",
       "       'person_prefer_d_1_n', 'person_prefer_d_1_s', 'person_prefer_d_1_m',\n",
       "       'person_prefer_d_1_l', 'person_prefer_d_2_n', 'person_prefer_d_2_s',\n",
       "       'person_prefer_d_2_m', 'person_prefer_d_2_l', 'person_prefer_d_3_n',\n",
       "       'person_prefer_d_3_s', 'person_prefer_d_3_m', 'person_prefer_d_3_l',\n",
       "       'contents_attribute_d_n', 'contents_attribute_d_s',\n",
       "       'contents_attribute_d_m', 'contents_attribute_d_l',\n",
       "       'person_prefer_h_1_l', 'person_prefer_h_1_m', 'person_prefer_h_2_l',\n",
       "       'person_prefer_h_2_m', 'person_prefer_h_3_l', 'person_prefer_h_3_m',\n",
       "       'contents_attribute_h_l', 'contents_attribute_h_m',\n",
       "       'contents_attribute_l_n', 'contents_attribute_l_s',\n",
       "       'contents_attribute_l_m', 'contents_attribute_l_l'],\n",
       "      dtype='object')"
      ]
     },
     "execution_count": 67,
     "metadata": {},
     "output_type": "execute_result"
    }
   ],
   "source": [
    "train_data.columns"
   ]
  },
  {
   "cell_type": "code",
   "execution_count": 68,
   "metadata": {},
   "outputs": [
    {
     "ename": "KeyError",
     "evalue": "\"['id' 'person_prefer_f' 'person_prefer_g' 'contents_open_dt' 'contents_rn'] not found in axis\"",
     "output_type": "error",
     "traceback": [
      "\u001b[1;31m---------------------------------------------------------------------------\u001b[0m",
      "\u001b[1;31mKeyError\u001b[0m                                  Traceback (most recent call last)",
      "\u001b[1;32m~\\AppData\\Local\\Temp/ipykernel_25228/4290611196.py\u001b[0m in \u001b[0;36m<module>\u001b[1;34m\u001b[0m\n\u001b[0;32m      1\u001b[0m \u001b[0mcols_drop\u001b[0m \u001b[1;33m=\u001b[0m \u001b[1;33m[\u001b[0m\u001b[1;34m\"id\"\u001b[0m\u001b[1;33m,\u001b[0m\u001b[1;34m\"person_prefer_f\"\u001b[0m\u001b[1;33m,\u001b[0m\u001b[1;34m\"person_prefer_g\"\u001b[0m \u001b[1;33m,\u001b[0m\u001b[1;34m\"contents_open_dt\"\u001b[0m\u001b[1;33m,\u001b[0m \u001b[1;34m\"contents_rn\"\u001b[0m\u001b[1;33m,\u001b[0m \u001b[1;33m]\u001b[0m\u001b[1;33m\u001b[0m\u001b[1;33m\u001b[0m\u001b[0m\n\u001b[0;32m      2\u001b[0m \u001b[1;33m\u001b[0m\u001b[0m\n\u001b[1;32m----> 3\u001b[1;33m \u001b[0mtrain_data\u001b[0m \u001b[1;33m=\u001b[0m \u001b[0mtrain_data\u001b[0m\u001b[1;33m.\u001b[0m\u001b[0mdrop\u001b[0m\u001b[1;33m(\u001b[0m\u001b[0mcolumns\u001b[0m \u001b[1;33m=\u001b[0m \u001b[0mcols_drop\u001b[0m\u001b[1;33m)\u001b[0m\u001b[1;33m\u001b[0m\u001b[1;33m\u001b[0m\u001b[0m\n\u001b[0m\u001b[0;32m      4\u001b[0m \u001b[0mtest_data\u001b[0m \u001b[1;33m=\u001b[0m \u001b[0mtest_data\u001b[0m\u001b[1;33m.\u001b[0m\u001b[0mdrop\u001b[0m\u001b[1;33m(\u001b[0m\u001b[0mcolumns\u001b[0m \u001b[1;33m=\u001b[0m \u001b[0mcols_drop\u001b[0m\u001b[1;33m)\u001b[0m\u001b[1;33m\u001b[0m\u001b[1;33m\u001b[0m\u001b[0m\n\u001b[0;32m      5\u001b[0m \u001b[1;33m\u001b[0m\u001b[0m\n",
      "\u001b[1;32m~\\workspace\\python\\venvs\\myproject\\lib\\site-packages\\pandas\\util\\_decorators.py\u001b[0m in \u001b[0;36mwrapper\u001b[1;34m(*args, **kwargs)\u001b[0m\n\u001b[0;32m    309\u001b[0m                     \u001b[0mstacklevel\u001b[0m\u001b[1;33m=\u001b[0m\u001b[0mstacklevel\u001b[0m\u001b[1;33m,\u001b[0m\u001b[1;33m\u001b[0m\u001b[1;33m\u001b[0m\u001b[0m\n\u001b[0;32m    310\u001b[0m                 )\n\u001b[1;32m--> 311\u001b[1;33m             \u001b[1;32mreturn\u001b[0m \u001b[0mfunc\u001b[0m\u001b[1;33m(\u001b[0m\u001b[1;33m*\u001b[0m\u001b[0margs\u001b[0m\u001b[1;33m,\u001b[0m \u001b[1;33m**\u001b[0m\u001b[0mkwargs\u001b[0m\u001b[1;33m)\u001b[0m\u001b[1;33m\u001b[0m\u001b[1;33m\u001b[0m\u001b[0m\n\u001b[0m\u001b[0;32m    312\u001b[0m \u001b[1;33m\u001b[0m\u001b[0m\n\u001b[0;32m    313\u001b[0m         \u001b[1;32mreturn\u001b[0m \u001b[0mwrapper\u001b[0m\u001b[1;33m\u001b[0m\u001b[1;33m\u001b[0m\u001b[0m\n",
      "\u001b[1;32m~\\workspace\\python\\venvs\\myproject\\lib\\site-packages\\pandas\\core\\frame.py\u001b[0m in \u001b[0;36mdrop\u001b[1;34m(self, labels, axis, index, columns, level, inplace, errors)\u001b[0m\n\u001b[0;32m   4904\u001b[0m                 \u001b[0mweight\u001b[0m  \u001b[1;36m1.0\u001b[0m     \u001b[1;36m0.8\u001b[0m\u001b[1;33m\u001b[0m\u001b[1;33m\u001b[0m\u001b[0m\n\u001b[0;32m   4905\u001b[0m         \"\"\"\n\u001b[1;32m-> 4906\u001b[1;33m         return super().drop(\n\u001b[0m\u001b[0;32m   4907\u001b[0m             \u001b[0mlabels\u001b[0m\u001b[1;33m=\u001b[0m\u001b[0mlabels\u001b[0m\u001b[1;33m,\u001b[0m\u001b[1;33m\u001b[0m\u001b[1;33m\u001b[0m\u001b[0m\n\u001b[0;32m   4908\u001b[0m             \u001b[0maxis\u001b[0m\u001b[1;33m=\u001b[0m\u001b[0maxis\u001b[0m\u001b[1;33m,\u001b[0m\u001b[1;33m\u001b[0m\u001b[1;33m\u001b[0m\u001b[0m\n",
      "\u001b[1;32m~\\workspace\\python\\venvs\\myproject\\lib\\site-packages\\pandas\\core\\generic.py\u001b[0m in \u001b[0;36mdrop\u001b[1;34m(self, labels, axis, index, columns, level, inplace, errors)\u001b[0m\n\u001b[0;32m   4148\u001b[0m         \u001b[1;32mfor\u001b[0m \u001b[0maxis\u001b[0m\u001b[1;33m,\u001b[0m \u001b[0mlabels\u001b[0m \u001b[1;32min\u001b[0m \u001b[0maxes\u001b[0m\u001b[1;33m.\u001b[0m\u001b[0mitems\u001b[0m\u001b[1;33m(\u001b[0m\u001b[1;33m)\u001b[0m\u001b[1;33m:\u001b[0m\u001b[1;33m\u001b[0m\u001b[1;33m\u001b[0m\u001b[0m\n\u001b[0;32m   4149\u001b[0m             \u001b[1;32mif\u001b[0m \u001b[0mlabels\u001b[0m \u001b[1;32mis\u001b[0m \u001b[1;32mnot\u001b[0m \u001b[1;32mNone\u001b[0m\u001b[1;33m:\u001b[0m\u001b[1;33m\u001b[0m\u001b[1;33m\u001b[0m\u001b[0m\n\u001b[1;32m-> 4150\u001b[1;33m                 \u001b[0mobj\u001b[0m \u001b[1;33m=\u001b[0m \u001b[0mobj\u001b[0m\u001b[1;33m.\u001b[0m\u001b[0m_drop_axis\u001b[0m\u001b[1;33m(\u001b[0m\u001b[0mlabels\u001b[0m\u001b[1;33m,\u001b[0m \u001b[0maxis\u001b[0m\u001b[1;33m,\u001b[0m \u001b[0mlevel\u001b[0m\u001b[1;33m=\u001b[0m\u001b[0mlevel\u001b[0m\u001b[1;33m,\u001b[0m \u001b[0merrors\u001b[0m\u001b[1;33m=\u001b[0m\u001b[0merrors\u001b[0m\u001b[1;33m)\u001b[0m\u001b[1;33m\u001b[0m\u001b[1;33m\u001b[0m\u001b[0m\n\u001b[0m\u001b[0;32m   4151\u001b[0m \u001b[1;33m\u001b[0m\u001b[0m\n\u001b[0;32m   4152\u001b[0m         \u001b[1;32mif\u001b[0m \u001b[0minplace\u001b[0m\u001b[1;33m:\u001b[0m\u001b[1;33m\u001b[0m\u001b[1;33m\u001b[0m\u001b[0m\n",
      "\u001b[1;32m~\\workspace\\python\\venvs\\myproject\\lib\\site-packages\\pandas\\core\\generic.py\u001b[0m in \u001b[0;36m_drop_axis\u001b[1;34m(self, labels, axis, level, errors)\u001b[0m\n\u001b[0;32m   4183\u001b[0m                 \u001b[0mnew_axis\u001b[0m \u001b[1;33m=\u001b[0m \u001b[0maxis\u001b[0m\u001b[1;33m.\u001b[0m\u001b[0mdrop\u001b[0m\u001b[1;33m(\u001b[0m\u001b[0mlabels\u001b[0m\u001b[1;33m,\u001b[0m \u001b[0mlevel\u001b[0m\u001b[1;33m=\u001b[0m\u001b[0mlevel\u001b[0m\u001b[1;33m,\u001b[0m \u001b[0merrors\u001b[0m\u001b[1;33m=\u001b[0m\u001b[0merrors\u001b[0m\u001b[1;33m)\u001b[0m\u001b[1;33m\u001b[0m\u001b[1;33m\u001b[0m\u001b[0m\n\u001b[0;32m   4184\u001b[0m             \u001b[1;32melse\u001b[0m\u001b[1;33m:\u001b[0m\u001b[1;33m\u001b[0m\u001b[1;33m\u001b[0m\u001b[0m\n\u001b[1;32m-> 4185\u001b[1;33m                 \u001b[0mnew_axis\u001b[0m \u001b[1;33m=\u001b[0m \u001b[0maxis\u001b[0m\u001b[1;33m.\u001b[0m\u001b[0mdrop\u001b[0m\u001b[1;33m(\u001b[0m\u001b[0mlabels\u001b[0m\u001b[1;33m,\u001b[0m \u001b[0merrors\u001b[0m\u001b[1;33m=\u001b[0m\u001b[0merrors\u001b[0m\u001b[1;33m)\u001b[0m\u001b[1;33m\u001b[0m\u001b[1;33m\u001b[0m\u001b[0m\n\u001b[0m\u001b[0;32m   4186\u001b[0m             \u001b[0mresult\u001b[0m \u001b[1;33m=\u001b[0m \u001b[0mself\u001b[0m\u001b[1;33m.\u001b[0m\u001b[0mreindex\u001b[0m\u001b[1;33m(\u001b[0m\u001b[1;33m**\u001b[0m\u001b[1;33m{\u001b[0m\u001b[0maxis_name\u001b[0m\u001b[1;33m:\u001b[0m \u001b[0mnew_axis\u001b[0m\u001b[1;33m}\u001b[0m\u001b[1;33m)\u001b[0m\u001b[1;33m\u001b[0m\u001b[1;33m\u001b[0m\u001b[0m\n\u001b[0;32m   4187\u001b[0m \u001b[1;33m\u001b[0m\u001b[0m\n",
      "\u001b[1;32m~\\workspace\\python\\venvs\\myproject\\lib\\site-packages\\pandas\\core\\indexes\\base.py\u001b[0m in \u001b[0;36mdrop\u001b[1;34m(self, labels, errors)\u001b[0m\n\u001b[0;32m   6015\u001b[0m         \u001b[1;32mif\u001b[0m \u001b[0mmask\u001b[0m\u001b[1;33m.\u001b[0m\u001b[0many\u001b[0m\u001b[1;33m(\u001b[0m\u001b[1;33m)\u001b[0m\u001b[1;33m:\u001b[0m\u001b[1;33m\u001b[0m\u001b[1;33m\u001b[0m\u001b[0m\n\u001b[0;32m   6016\u001b[0m             \u001b[1;32mif\u001b[0m \u001b[0merrors\u001b[0m \u001b[1;33m!=\u001b[0m \u001b[1;34m\"ignore\"\u001b[0m\u001b[1;33m:\u001b[0m\u001b[1;33m\u001b[0m\u001b[1;33m\u001b[0m\u001b[0m\n\u001b[1;32m-> 6017\u001b[1;33m                 \u001b[1;32mraise\u001b[0m \u001b[0mKeyError\u001b[0m\u001b[1;33m(\u001b[0m\u001b[1;34mf\"{labels[mask]} not found in axis\"\u001b[0m\u001b[1;33m)\u001b[0m\u001b[1;33m\u001b[0m\u001b[1;33m\u001b[0m\u001b[0m\n\u001b[0m\u001b[0;32m   6018\u001b[0m             \u001b[0mindexer\u001b[0m \u001b[1;33m=\u001b[0m \u001b[0mindexer\u001b[0m\u001b[1;33m[\u001b[0m\u001b[1;33m~\u001b[0m\u001b[0mmask\u001b[0m\u001b[1;33m]\u001b[0m\u001b[1;33m\u001b[0m\u001b[1;33m\u001b[0m\u001b[0m\n\u001b[0;32m   6019\u001b[0m         \u001b[1;32mreturn\u001b[0m \u001b[0mself\u001b[0m\u001b[1;33m.\u001b[0m\u001b[0mdelete\u001b[0m\u001b[1;33m(\u001b[0m\u001b[0mindexer\u001b[0m\u001b[1;33m)\u001b[0m\u001b[1;33m\u001b[0m\u001b[1;33m\u001b[0m\u001b[0m\n",
      "\u001b[1;31mKeyError\u001b[0m: \"['id' 'person_prefer_f' 'person_prefer_g' 'contents_open_dt' 'contents_rn'] not found in axis\""
     ]
    }
   ],
   "source": [
    "cols_drop = [\"id\",\"person_prefer_f\",\"person_prefer_g\" ,\"contents_open_dt\", \"contents_rn\", ]\n",
    "\n",
    "train_data = train_data.drop(columns = cols_drop)\n",
    "test_data = test_data.drop(columns = cols_drop)\n",
    "\n",
    "\n",
    "# x_train, y_train = preprocess_data(train_data, cols_merge = cols_merge , cols_equi= cols_equi , cols_drop = cols_drop)\n",
    "# x_test, _ = preprocess_data(test_data,is_train = False, cols_merge = cols_merge , cols_equi= cols_equi  , cols_drop = cols_drop)\n",
    "# x_train.shape , y_train.shape , x_test.shape"
   ]
  },
  {
   "cell_type": "code",
   "execution_count": 69,
   "metadata": {},
   "outputs": [],
   "source": [
    "# 이 부분을 추가한 모델이 성능이 조금은 더 높더라.\n",
    "# 변수 개수가 여기에서 차이가 난다.\n",
    "cols_equi = [\n",
    "\n",
    "    (\"contents_attribute_c\",\"person_prefer_c\"),\n",
    "    (\"contents_attribute_e\",\"person_prefer_e\"),\n",
    "\n",
    "    (\"person_prefer_d_2_s\" , \"contents_attribute_d_s\"),\n",
    "    (\"person_prefer_d_2_m\" , \"contents_attribute_d_m\"),\n",
    "    (\"person_prefer_d_2_l\" , \"contents_attribute_d_l\"),\n",
    "    (\"person_prefer_d_3_s\" , \"contents_attribute_d_s\"),\n",
    "    (\"person_prefer_d_3_m\" , \"contents_attribute_d_m\"),\n",
    "    (\"person_prefer_d_3_l\" , \"contents_attribute_d_l\"),\n",
    "\n",
    "    (\"person_prefer_h_1_m\" , \"contents_attribute_h_m\"),\n",
    "    (\"person_prefer_h_2_m\" , \"contents_attribute_h_m\"),\n",
    "    (\"person_prefer_h_3_m\" , \"contents_attribute_h_m\"),\n",
    "    (\"person_prefer_h_1_l\" , \"contents_attribute_h_l\"),\n",
    "    (\"person_prefer_h_2_l\" , \"contents_attribute_h_l\"),\n",
    "    (\"person_prefer_h_3_l\" , \"contents_attribute_h_l\"),\n",
    "]\n",
    "\n",
    "    "
   ]
  },
  {
   "cell_type": "code",
   "execution_count": 70,
   "metadata": {},
   "outputs": [],
   "source": [
    "bool_cols = ['d_l_match_yn',\t'd_m_match_yn',\t'd_s_match_yn'\t,'h_l_match_yn','h_m_match_yn',\t'h_s_match_yn',\t'person_attribute_a']\n",
    "def preprocess_data(\n",
    "                    df:pd.DataFrame,\n",
    "                    cols_equi:List[Tuple[str,str]]= [] )->Tuple[pd.DataFrame,np.ndarray]:\n",
    "    df = df.copy()\n",
    "\n",
    "\n",
    "    cols = df.select_dtypes(bool).columns.tolist()\n",
    "    df[cols] = df[cols].astype(int)\n",
    "\n",
    "    for col1, col2 in cols_equi:\n",
    "        df[f\"{col1}_{col2}\"] = (df[col1] == df[col2] ).astype(int)\n",
    "\n",
    "    return (df)"
   ]
  },
  {
   "cell_type": "code",
   "execution_count": 72,
   "metadata": {},
   "outputs": [
    {
     "data": {
      "text/plain": [
       "Index(['d_l_match_yn', 'd_m_match_yn', 'd_s_match_yn', 'h_l_match_yn',\n",
       "       'h_m_match_yn', 'h_s_match_yn', 'person_attribute_a',\n",
       "       'person_attribute_a_1', 'person_attribute_b', 'person_prefer_c',\n",
       "       'person_prefer_d_1', 'person_prefer_d_2', 'person_prefer_d_3',\n",
       "       'person_prefer_e', 'person_prefer_h_1', 'person_prefer_h_2',\n",
       "       'person_prefer_h_3', 'contents_attribute_i', 'contents_attribute_a',\n",
       "       'contents_attribute_j_1', 'contents_attribute_j',\n",
       "       'contents_attribute_c', 'contents_attribute_k', 'contents_attribute_l',\n",
       "       'contents_attribute_d', 'contents_attribute_m', 'contents_attribute_e',\n",
       "       'contents_attribute_h', 'person_rn', 'target', 'hour_band',\n",
       "       'person_prefer_d_1_n', 'person_prefer_d_1_s', 'person_prefer_d_1_m',\n",
       "       'person_prefer_d_1_l', 'person_prefer_d_2_n', 'person_prefer_d_2_s',\n",
       "       'person_prefer_d_2_m', 'person_prefer_d_2_l', 'person_prefer_d_3_n',\n",
       "       'person_prefer_d_3_s', 'person_prefer_d_3_m', 'person_prefer_d_3_l',\n",
       "       'contents_attribute_d_n', 'contents_attribute_d_s',\n",
       "       'contents_attribute_d_m', 'contents_attribute_d_l',\n",
       "       'person_prefer_h_1_l', 'person_prefer_h_1_m', 'person_prefer_h_2_l',\n",
       "       'person_prefer_h_2_m', 'person_prefer_h_3_l', 'person_prefer_h_3_m',\n",
       "       'contents_attribute_h_l', 'contents_attribute_h_m',\n",
       "       'contents_attribute_l_n', 'contents_attribute_l_s',\n",
       "       'contents_attribute_l_m', 'contents_attribute_l_l',\n",
       "       'contents_attribute_c_person_prefer_c',\n",
       "       'contents_attribute_e_person_prefer_e',\n",
       "       'person_prefer_d_2_s_contents_attribute_d_s',\n",
       "       'person_prefer_d_2_m_contents_attribute_d_m',\n",
       "       'person_prefer_d_2_l_contents_attribute_d_l',\n",
       "       'person_prefer_d_3_s_contents_attribute_d_s',\n",
       "       'person_prefer_d_3_m_contents_attribute_d_m',\n",
       "       'person_prefer_d_3_l_contents_attribute_d_l',\n",
       "       'person_prefer_h_1_m_contents_attribute_h_m',\n",
       "       'person_prefer_h_2_m_contents_attribute_h_m',\n",
       "       'person_prefer_h_3_m_contents_attribute_h_m',\n",
       "       'person_prefer_h_1_l_contents_attribute_h_l',\n",
       "       'person_prefer_h_2_l_contents_attribute_h_l',\n",
       "       'person_prefer_h_3_l_contents_attribute_h_l'],\n",
       "      dtype='object')"
      ]
     },
     "execution_count": 72,
     "metadata": {},
     "output_type": "execute_result"
    }
   ],
   "source": [
    "preprocess_data(train_data, cols_equi).columns"
   ]
  },
  {
   "cell_type": "code",
   "execution_count": 73,
   "metadata": {},
   "outputs": [],
   "source": [
    "y_train = train_data.pop('target')\n",
    "x_train = train_data\n",
    "x_test = test_data"
   ]
  },
  {
   "cell_type": "code",
   "execution_count": 76,
   "metadata": {},
   "outputs": [],
   "source": [
    "cat_features = x_train.columns[x_train.nunique() > 2].tolist()"
   ]
  },
  {
   "cell_type": "code",
   "execution_count": 77,
   "metadata": {},
   "outputs": [
    {
     "data": {
      "text/plain": [
       "['person_attribute_a_1',\n",
       " 'person_attribute_b',\n",
       " 'person_prefer_c',\n",
       " 'person_prefer_d_1',\n",
       " 'person_prefer_d_2',\n",
       " 'person_prefer_d_3',\n",
       " 'person_prefer_e',\n",
       " 'person_prefer_h_1',\n",
       " 'person_prefer_h_2',\n",
       " 'person_prefer_h_3',\n",
       " 'contents_attribute_i',\n",
       " 'contents_attribute_a',\n",
       " 'contents_attribute_j_1',\n",
       " 'contents_attribute_c',\n",
       " 'contents_attribute_l',\n",
       " 'contents_attribute_d',\n",
       " 'contents_attribute_m',\n",
       " 'contents_attribute_e',\n",
       " 'contents_attribute_h',\n",
       " 'person_rn',\n",
       " 'hour_band',\n",
       " 'person_prefer_d_1_n',\n",
       " 'person_prefer_d_1_s',\n",
       " 'person_prefer_d_1_m',\n",
       " 'person_prefer_d_1_l',\n",
       " 'person_prefer_d_2_n',\n",
       " 'person_prefer_d_2_s',\n",
       " 'person_prefer_d_2_m',\n",
       " 'person_prefer_d_2_l',\n",
       " 'person_prefer_d_3_n',\n",
       " 'person_prefer_d_3_s',\n",
       " 'person_prefer_d_3_m',\n",
       " 'person_prefer_d_3_l',\n",
       " 'contents_attribute_d_n',\n",
       " 'contents_attribute_d_s',\n",
       " 'contents_attribute_d_m',\n",
       " 'contents_attribute_d_l',\n",
       " 'person_prefer_h_1_l',\n",
       " 'person_prefer_h_1_m',\n",
       " 'person_prefer_h_2_l',\n",
       " 'person_prefer_h_2_m',\n",
       " 'person_prefer_h_3_l',\n",
       " 'person_prefer_h_3_m',\n",
       " 'contents_attribute_h_l',\n",
       " 'contents_attribute_h_m',\n",
       " 'contents_attribute_l_n',\n",
       " 'contents_attribute_l_s',\n",
       " 'contents_attribute_l_m',\n",
       " 'contents_attribute_l_l']"
      ]
     },
     "execution_count": 77,
     "metadata": {},
     "output_type": "execute_result"
    }
   ],
   "source": [
    "cat_features"
   ]
  },
  {
   "cell_type": "code",
   "execution_count": 78,
   "metadata": {},
   "outputs": [],
   "source": [
    "is_holdout = False\n",
    "n_splits = 5 # 기존 5\n",
    "iterations = 10000 # 기존 3000\n",
    "patience = 100 # 기존 50\n",
    "\n",
    "cv = KFold(n_splits=n_splits, shuffle=True, random_state=SEED)"
   ]
  },
  {
   "cell_type": "code",
   "execution_count": 26,
   "metadata": {},
   "outputs": [
    {
     "name": "stdout",
     "output_type": "stream",
     "text": [
      "==================================================\n",
      "Learning rate set to 0.016489\n",
      "0:\tlearn: 0.6356257\ttest: 0.6420875\tbest: 0.6420875 (0)\ttotal: 260ms\tremaining: 43m 15s\n",
      "100:\tlearn: 0.6396797\ttest: 0.6481268\tbest: 0.6481268 (100)\ttotal: 23s\tremaining: 37m 30s\n",
      "200:\tlearn: 0.6455960\ttest: 0.6560015\tbest: 0.6560857 (198)\ttotal: 46.3s\tremaining: 37m 34s\n",
      "300:\tlearn: 0.6514142\ttest: 0.6663970\tbest: 0.6663970 (300)\ttotal: 1m 9s\tremaining: 37m 22s\n",
      "400:\tlearn: 0.6566599\ttest: 0.6757754\tbest: 0.6758056 (399)\ttotal: 1m 32s\tremaining: 36m 56s\n",
      "500:\tlearn: 0.6600351\ttest: 0.6808519\tbest: 0.6809183 (498)\ttotal: 1m 55s\tremaining: 36m 25s\n",
      "600:\tlearn: 0.6625272\ttest: 0.6830133\tbest: 0.6830133 (600)\ttotal: 2m 17s\tremaining: 35m 47s\n",
      "700:\tlearn: 0.6647675\ttest: 0.6849051\tbest: 0.6849051 (700)\ttotal: 2m 39s\tremaining: 35m 21s\n",
      "800:\tlearn: 0.6672694\ttest: 0.6861151\tbest: 0.6861714 (798)\ttotal: 3m 2s\tremaining: 34m 56s\n",
      "900:\tlearn: 0.6686075\ttest: 0.6864613\tbest: 0.6866179 (848)\ttotal: 3m 24s\tremaining: 34m 27s\n",
      "bestTest = 0.6866178998\n",
      "bestIteration = 848\n",
      "Shrink model to first 849 iterations.\n",
      "==================================================\n",
      "Learning rate set to 0.016489\n",
      "0:\tlearn: 0.5994053\ttest: 0.6015196\tbest: 0.6015196 (0)\ttotal: 253ms\tremaining: 42m 8s\n",
      "100:\tlearn: 0.6388013\ttest: 0.6483378\tbest: 0.6484490 (99)\ttotal: 23.1s\tremaining: 37m 44s\n",
      "200:\tlearn: 0.6448278\ttest: 0.6573854\tbest: 0.6574304 (198)\ttotal: 47s\tremaining: 38m 12s\n",
      "300:\tlearn: 0.6511148\ttest: 0.6669426\tbest: 0.6669426 (300)\ttotal: 1m 10s\tremaining: 37m 39s\n",
      "400:\tlearn: 0.6555431\ttest: 0.6751125\tbest: 0.6752413 (398)\ttotal: 1m 33s\tremaining: 37m 11s\n",
      "500:\tlearn: 0.6588838\ttest: 0.6801777\tbest: 0.6801777 (500)\ttotal: 1m 55s\tremaining: 36m 23s\n",
      "600:\tlearn: 0.6617156\ttest: 0.6822618\tbest: 0.6823240 (560)\ttotal: 2m 17s\tremaining: 35m 49s\n",
      "700:\tlearn: 0.6638510\ttest: 0.6828531\tbest: 0.6829529 (695)\ttotal: 2m 39s\tremaining: 35m 9s\n",
      "800:\tlearn: 0.6656998\ttest: 0.6837752\tbest: 0.6838896 (756)\ttotal: 3m 1s\tremaining: 34m 39s\n",
      "900:\tlearn: 0.6675392\ttest: 0.6844504\tbest: 0.6845096 (849)\ttotal: 3m 23s\tremaining: 34m 12s\n",
      "1000:\tlearn: 0.6693815\ttest: 0.6845583\tbest: 0.6851238 (960)\ttotal: 3m 45s\tremaining: 33m 48s\n",
      "bestTest = 0.6851237947\n",
      "bestIteration = 960\n",
      "Shrink model to first 961 iterations.\n",
      "==================================================\n",
      "Learning rate set to 0.016489\n",
      "0:\tlearn: 0.6242203\ttest: 0.6225459\tbest: 0.6225459 (0)\ttotal: 218ms\tremaining: 36m 17s\n",
      "100:\tlearn: 0.6413006\ttest: 0.6470701\tbest: 0.6470701 (100)\ttotal: 22.3s\tremaining: 36m 24s\n",
      "200:\tlearn: 0.6469867\ttest: 0.6568079\tbest: 0.6568079 (200)\ttotal: 44.4s\tremaining: 36m 4s\n",
      "300:\tlearn: 0.6542583\ttest: 0.6676053\tbest: 0.6676053 (300)\ttotal: 1m 7s\tremaining: 36m 11s\n",
      "400:\tlearn: 0.6581989\ttest: 0.6743738\tbest: 0.6744164 (399)\ttotal: 1m 30s\tremaining: 36m 12s\n",
      "500:\tlearn: 0.6611174\ttest: 0.6791978\tbest: 0.6791978 (500)\ttotal: 1m 53s\tremaining: 35m 54s\n",
      "600:\tlearn: 0.6636017\ttest: 0.6807480\tbest: 0.6808777 (587)\ttotal: 2m 15s\tremaining: 35m 24s\n",
      "700:\tlearn: 0.6656386\ttest: 0.6827293\tbest: 0.6827293 (700)\ttotal: 2m 38s\tremaining: 35m 2s\n",
      "800:\tlearn: 0.6671657\ttest: 0.6836505\tbest: 0.6836505 (800)\ttotal: 3m\tremaining: 34m 38s\n",
      "bestTest = 0.6836505264\n",
      "bestIteration = 800\n",
      "Shrink model to first 801 iterations.\n",
      "==================================================\n",
      "Learning rate set to 0.016489\n",
      "0:\tlearn: 0.6212642\ttest: 0.6218254\tbest: 0.6218254 (0)\ttotal: 237ms\tremaining: 39m 32s\n",
      "100:\tlearn: 0.6408474\ttest: 0.6423543\tbest: 0.6423543 (100)\ttotal: 22.5s\tremaining: 36m 47s\n",
      "200:\tlearn: 0.6458303\ttest: 0.6517053\tbest: 0.6518461 (195)\ttotal: 46.5s\tremaining: 37m 49s\n",
      "300:\tlearn: 0.6523492\ttest: 0.6622534\tbest: 0.6622534 (300)\ttotal: 1m 9s\tremaining: 37m 25s\n",
      "400:\tlearn: 0.6571318\ttest: 0.6706810\tbest: 0.6706810 (400)\ttotal: 1m 33s\tremaining: 37m 11s\n",
      "500:\tlearn: 0.6607400\ttest: 0.6737559\tbest: 0.6737559 (500)\ttotal: 1m 55s\tremaining: 36m 37s\n",
      "600:\tlearn: 0.6634066\ttest: 0.6762053\tbest: 0.6762894 (599)\ttotal: 2m 17s\tremaining: 35m 56s\n",
      "700:\tlearn: 0.6653870\ttest: 0.6776222\tbest: 0.6776222 (700)\ttotal: 2m 40s\tremaining: 35m 24s\n",
      "800:\tlearn: 0.6673168\ttest: 0.6783002\tbest: 0.6783002 (799)\ttotal: 3m 2s\tremaining: 35m\n",
      "900:\tlearn: 0.6692043\ttest: 0.6786711\tbest: 0.6788640 (889)\ttotal: 3m 25s\tremaining: 34m 35s\n",
      "bestTest = 0.6788639931\n",
      "bestIteration = 889\n",
      "Shrink model to first 890 iterations.\n",
      "==================================================\n",
      "Learning rate set to 0.016489\n",
      "0:\tlearn: 0.6272627\ttest: 0.6273465\tbest: 0.6273465 (0)\ttotal: 246ms\tremaining: 40m 58s\n",
      "100:\tlearn: 0.6418123\ttest: 0.6445967\tbest: 0.6447950 (99)\ttotal: 22.4s\tremaining: 36m 32s\n",
      "200:\tlearn: 0.6465271\ttest: 0.6514581\tbest: 0.6514697 (199)\ttotal: 45.3s\tremaining: 36m 46s\n",
      "300:\tlearn: 0.6538581\ttest: 0.6643162\tbest: 0.6643162 (300)\ttotal: 1m 8s\tremaining: 36m 51s\n",
      "400:\tlearn: 0.6578069\ttest: 0.6712261\tbest: 0.6712261 (400)\ttotal: 1m 31s\tremaining: 36m 38s\n",
      "500:\tlearn: 0.6610947\ttest: 0.6745001\tbest: 0.6745491 (499)\ttotal: 1m 54s\tremaining: 36m 10s\n",
      "600:\tlearn: 0.6638788\ttest: 0.6764252\tbest: 0.6764407 (593)\ttotal: 2m 16s\tremaining: 35m 37s\n",
      "700:\tlearn: 0.6660461\ttest: 0.6779092\tbest: 0.6780901 (689)\ttotal: 2m 39s\tremaining: 35m 14s\n",
      "800:\tlearn: 0.6679726\ttest: 0.6787941\tbest: 0.6788769 (755)\ttotal: 3m 2s\tremaining: 34m 54s\n",
      "900:\tlearn: 0.6694541\ttest: 0.6794549\tbest: 0.6794549 (900)\ttotal: 3m 24s\tremaining: 34m 26s\n",
      "bestTest = 0.6797728764\n",
      "bestIteration = 918\n",
      "Shrink model to first 919 iterations.\n"
     ]
    }
   ],
   "source": [
    "scores = []\n",
    "models = []\n",
    "\n",
    "\n",
    "models = []\n",
    "for tri, vai in cv.split(x_train):\n",
    "    print(\"=\"*50)\n",
    "    preds = []\n",
    "\n",
    "    model = CatBoostClassifier(iterations=iterations,\n",
    "                               random_state=SEED,\n",
    "                               task_type=\"GPU\",\n",
    "                               eval_metric=\"F1\",\n",
    "                               cat_features=cat_features,\n",
    "                               one_hot_max_size=4,\n",
    "                               bagging_temperature=0.2,\n",
    "#                               depth=10,\n",
    "# depth default 값을 모르겠지만 학습이 엄청 오래걸리게 된다.\n",
    "                               use_best_model=True)\n",
    "    model.fit(x_train.iloc[tri], y_train[tri], \n",
    "            eval_set=[(x_train.iloc[vai], y_train[vai])], \n",
    "            early_stopping_rounds=patience ,\n",
    "            verbose = 100\n",
    "        )\n",
    "    \n",
    "    models.append(model)\n",
    "    scores.append(model.get_best_score()[\"validation\"][\"F1\"])\n",
    "    if is_holdout:\n",
    "        break    "
   ]
  },
  {
   "cell_type": "code",
   "execution_count": 27,
   "metadata": {},
   "outputs": [
    {
     "name": "stdout",
     "output_type": "stream",
     "text": [
      "[0.6866178997680599, 0.6851237947299627, 0.6836505263554005, 0.6788639931497074, 0.6797728764230889]\n",
      "0.6828058180852439\n"
     ]
    }
   ],
   "source": [
    "print(scores)\n",
    "print(np.mean(scores))\n",
    "\n",
    "# hyperparemeter 수정 X\n",
    "# 결과 0.75 이전꺼"
   ]
  },
  {
   "cell_type": "code",
   "execution_count": 37,
   "metadata": {},
   "outputs": [],
   "source": [
    "threshold = 0.39"
   ]
  },
  {
   "cell_type": "code",
   "execution_count": 38,
   "metadata": {},
   "outputs": [
    {
     "name": "stdout",
     "output_type": "stream",
     "text": [
      "[0.7131629392971246, 0.713077256456765, 0.7100831294284553, 0.7103073034883534, 0.7095004960357468]\n",
      "0.7112262249412891\n"
     ]
    }
   ],
   "source": [
    "pred_list = []\n",
    "scores = []\n",
    "for i,(tri, vai) in enumerate( cv.split(x_train) ):\n",
    "    pred = models[i].predict_proba(x_train.iloc[vai])[:, 1]\n",
    "    pred = np.where(pred >= threshold , 1, 0)\n",
    "    score = f1_score(y_train[vai],pred)\n",
    "    scores.append(score)\n",
    "    pred = models[i].predict_proba(x_test)[:, 1]\n",
    "    pred_list.append(pred)\n",
    "print(scores)\n",
    "print(np.mean(scores))"
   ]
  },
  {
   "cell_type": "code",
   "execution_count": 39,
   "metadata": {},
   "outputs": [],
   "source": [
    "pred = np.mean( pred_list , axis = 0 )\n",
    "pred = np.where(pred >= threshold , 1, 0)"
   ]
  },
  {
   "cell_type": "code",
   "execution_count": 40,
   "metadata": {},
   "outputs": [
    {
     "name": "stdout",
     "output_type": "stream",
     "text": [
      "target 1 개수 :  35419\n"
     ]
    }
   ],
   "source": [
    "sample_submission = pd.read_csv(f'{DATA_PATH}sample_submission.csv')\n",
    "sample_submission['target'] = pred\n",
    "sample_submission\n",
    "print('target 1 개수 : ',sum(sample_submission['target']))"
   ]
  },
  {
   "cell_type": "code",
   "execution_count": 41,
   "metadata": {},
   "outputs": [],
   "source": [
    "sample_submission.to_csv(f\"{SUBMIT_PATH}catboost-made1.csv\", index=False)"
   ]
  },
  {
   "cell_type": "code",
   "execution_count": null,
   "metadata": {},
   "outputs": [],
   "source": []
  }
 ],
 "metadata": {
  "interpreter": {
   "hash": "c97dde18f122f9d21c34c8255baf2515d19df3edbb55cbf82035c58b5acf6190"
  },
  "kernelspec": {
   "display_name": "Python 3.8.5 64-bit (system)",
   "language": "python",
   "name": "python3"
  },
  "language_info": {
   "codemirror_mode": {
    "name": "ipython",
    "version": 3
   },
   "file_extension": ".py",
   "mimetype": "text/x-python",
   "name": "python",
   "nbconvert_exporter": "python",
   "pygments_lexer": "ipython3",
   "version": "3.8.5"
  },
  "orig_nbformat": 4
 },
 "nbformat": 4,
 "nbformat_minor": 2
}
