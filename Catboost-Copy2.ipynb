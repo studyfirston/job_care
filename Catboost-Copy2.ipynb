{
 "cells": [
  {
   "cell_type": "code",
   "execution_count": 1,
   "metadata": {},
   "outputs": [],
   "source": [
    "DATA_PATH = \"data/\"\n",
    "SUBMIT_PATH = \"submit/\"\n",
    "SEED = 42"
   ]
  },
  {
   "cell_type": "code",
   "execution_count": 2,
   "metadata": {},
   "outputs": [],
   "source": [
    "import os\n",
    "import sys\n",
    "import platform\n",
    "import random\n",
    "import math\n",
    "from typing import List ,Dict, Tuple\n",
    "\n",
    "import pandas as pd\n",
    "import numpy as np\n",
    " \n",
    "import sklearn \n",
    "from sklearn.model_selection import StratifiedKFold , KFold\n",
    "from sklearn.metrics import f1_score \n",
    "\n",
    "from catboost import Pool,CatBoostClassifier\n",
    "from datetime import datetime"
   ]
  },
  {
   "cell_type": "code",
   "execution_count": 3,
   "metadata": {},
   "outputs": [
    {
     "data": {
      "text/plain": [
       "((501951, 35), (46404, 34))"
      ]
     },
     "execution_count": 3,
     "metadata": {},
     "output_type": "execute_result"
    }
   ],
   "source": [
    "train_data = pd.read_csv(f'{DATA_PATH}train.csv')\n",
    "test_data = pd.read_csv(f'{DATA_PATH}test.csv')\n",
    "\n",
    "\n",
    "train_data.shape , test_data.shape"
   ]
  },
  {
   "cell_type": "code",
   "execution_count": 4,
   "metadata": {},
   "outputs": [
    {
     "data": {
      "text/html": [
       "<div>\n",
       "<style scoped>\n",
       "    .dataframe tbody tr th:only-of-type {\n",
       "        vertical-align: middle;\n",
       "    }\n",
       "\n",
       "    .dataframe tbody tr th {\n",
       "        vertical-align: top;\n",
       "    }\n",
       "\n",
       "    .dataframe thead th {\n",
       "        text-align: right;\n",
       "    }\n",
       "</style>\n",
       "<table border=\"1\" class=\"dataframe\">\n",
       "  <thead>\n",
       "    <tr style=\"text-align: right;\">\n",
       "      <th></th>\n",
       "      <th>id</th>\n",
       "      <th>d_l_match_yn</th>\n",
       "      <th>d_m_match_yn</th>\n",
       "      <th>d_s_match_yn</th>\n",
       "      <th>h_l_match_yn</th>\n",
       "      <th>h_m_match_yn</th>\n",
       "      <th>h_s_match_yn</th>\n",
       "      <th>person_attribute_a</th>\n",
       "      <th>person_attribute_a_1</th>\n",
       "      <th>person_attribute_b</th>\n",
       "      <th>...</th>\n",
       "      <th>contents_attribute_l</th>\n",
       "      <th>contents_attribute_d</th>\n",
       "      <th>contents_attribute_m</th>\n",
       "      <th>contents_attribute_e</th>\n",
       "      <th>contents_attribute_h</th>\n",
       "      <th>person_rn</th>\n",
       "      <th>contents_rn</th>\n",
       "      <th>contents_open_dt</th>\n",
       "      <th>target</th>\n",
       "      <th>hour</th>\n",
       "    </tr>\n",
       "  </thead>\n",
       "  <tbody>\n",
       "    <tr>\n",
       "      <th>0</th>\n",
       "      <td>0</td>\n",
       "      <td>True</td>\n",
       "      <td>True</td>\n",
       "      <td>True</td>\n",
       "      <td>False</td>\n",
       "      <td>False</td>\n",
       "      <td>False</td>\n",
       "      <td>1</td>\n",
       "      <td>4</td>\n",
       "      <td>3</td>\n",
       "      <td>...</td>\n",
       "      <td>1608</td>\n",
       "      <td>275</td>\n",
       "      <td>1</td>\n",
       "      <td>4</td>\n",
       "      <td>139</td>\n",
       "      <td>618822</td>\n",
       "      <td>354805</td>\n",
       "      <td>2020-01-17 12:09:36</td>\n",
       "      <td>1</td>\n",
       "      <td>12</td>\n",
       "    </tr>\n",
       "    <tr>\n",
       "      <th>1</th>\n",
       "      <td>1</td>\n",
       "      <td>False</td>\n",
       "      <td>False</td>\n",
       "      <td>False</td>\n",
       "      <td>True</td>\n",
       "      <td>True</td>\n",
       "      <td>False</td>\n",
       "      <td>1</td>\n",
       "      <td>3</td>\n",
       "      <td>4</td>\n",
       "      <td>...</td>\n",
       "      <td>1608</td>\n",
       "      <td>275</td>\n",
       "      <td>1</td>\n",
       "      <td>4</td>\n",
       "      <td>133</td>\n",
       "      <td>571659</td>\n",
       "      <td>346213</td>\n",
       "      <td>2020-06-18 17:48:52</td>\n",
       "      <td>0</td>\n",
       "      <td>17</td>\n",
       "    </tr>\n",
       "    <tr>\n",
       "      <th>2</th>\n",
       "      <td>2</td>\n",
       "      <td>False</td>\n",
       "      <td>False</td>\n",
       "      <td>False</td>\n",
       "      <td>True</td>\n",
       "      <td>False</td>\n",
       "      <td>False</td>\n",
       "      <td>2</td>\n",
       "      <td>0</td>\n",
       "      <td>3</td>\n",
       "      <td>...</td>\n",
       "      <td>1600</td>\n",
       "      <td>94</td>\n",
       "      <td>1</td>\n",
       "      <td>4</td>\n",
       "      <td>53</td>\n",
       "      <td>399816</td>\n",
       "      <td>206408</td>\n",
       "      <td>2020-07-08 20:00:10</td>\n",
       "      <td>0</td>\n",
       "      <td>20</td>\n",
       "    </tr>\n",
       "  </tbody>\n",
       "</table>\n",
       "<p>3 rows × 36 columns</p>\n",
       "</div>"
      ],
      "text/plain": [
       "   id  d_l_match_yn  d_m_match_yn  d_s_match_yn  h_l_match_yn  h_m_match_yn  \\\n",
       "0   0          True          True          True         False         False   \n",
       "1   1         False         False         False          True          True   \n",
       "2   2         False         False         False          True         False   \n",
       "\n",
       "   h_s_match_yn  person_attribute_a  person_attribute_a_1  person_attribute_b  \\\n",
       "0         False                   1                     4                   3   \n",
       "1         False                   1                     3                   4   \n",
       "2         False                   2                     0                   3   \n",
       "\n",
       "   ...  contents_attribute_l  contents_attribute_d  contents_attribute_m  \\\n",
       "0  ...                  1608                   275                     1   \n",
       "1  ...                  1608                   275                     1   \n",
       "2  ...                  1600                    94                     1   \n",
       "\n",
       "   contents_attribute_e  contents_attribute_h  person_rn  contents_rn  \\\n",
       "0                     4                   139     618822       354805   \n",
       "1                     4                   133     571659       346213   \n",
       "2                     4                    53     399816       206408   \n",
       "\n",
       "     contents_open_dt  target  hour  \n",
       "0 2020-01-17 12:09:36       1    12  \n",
       "1 2020-06-18 17:48:52       0    17  \n",
       "2 2020-07-08 20:00:10       0    20  \n",
       "\n",
       "[3 rows x 36 columns]"
      ]
     },
     "execution_count": 4,
     "metadata": {},
     "output_type": "execute_result"
    }
   ],
   "source": [
    "# hour 변수를 넣기 위해서 추가\n",
    "train_data['contents_open_dt'] = train_data['contents_open_dt'].apply(lambda x: datetime.strptime(x, '%Y-%m-%d %H:%M:%S'))\n",
    "test_data['contents_open_dt'] = test_data['contents_open_dt'].apply(lambda x: datetime.strptime(x, '%Y-%m-%d %H:%M:%S'))\n",
    "\n",
    "train_data['hour'] = train_data['contents_open_dt'].apply(lambda x : x.timetuple()[3])\n",
    "test_data['hour'] = test_data['contents_open_dt'].apply(lambda x : x.timetuple()[3])\n",
    "\n",
    "train_data.head(3)"
   ]
  },
  {
   "cell_type": "code",
   "execution_count": 5,
   "metadata": {},
   "outputs": [],
   "source": [
    "# Train data EDA에 따라서\n",
    "# good - mid - low time (target에 따라서 good <-> low 범위)\n",
    "# low : 23~07\n",
    "# mid : 17~22\n",
    "# good : 8~16\n",
    "train_data.loc[train_data['hour']<=7, 'hour_band'] = 'low_time'\n",
    "train_data.loc[train_data['hour']==23, 'hour_band'] = 'low_time'\n",
    "\n",
    "train_data.loc[(train_data['hour']>7) & (train_data['hour'] <= 16), 'hour_band'] = 'good_time'\n",
    "train_data.loc[(train_data['hour']>=17) & (train_data['hour']<=22), 'hour_band'] = 'mid_time'\n",
    "train_data = train_data.drop(columns = ['hour'])\n",
    "\n",
    "test_data.loc[test_data['hour']<=7, 'hour_band'] = 'low_time'\n",
    "test_data.loc[test_data['hour']==23, 'hour_band'] = 'low_time'\n",
    "\n",
    "test_data.loc[(test_data['hour']>7) & (test_data['hour'] <= 16), 'hour_band'] = 'good_time'\n",
    "test_data.loc[(test_data['hour']>=17) & (test_data['hour']<=22), 'hour_band'] = 'mid_time'\n",
    "test_data = test_data.drop(columns = ['hour'])"
   ]
  },
  {
   "cell_type": "code",
   "execution_count": 6,
   "metadata": {},
   "outputs": [],
   "source": [
    "from typing import Dict\n",
    "import numpy as np\n",
    "import pandas as pd\n",
    "\n",
    "def add_code(\n",
    "    df: pd.DataFrame,\n",
    "    d_code: Dict[int, Dict[str, int]], \n",
    "    h_code: Dict[int, Dict[str, int]], \n",
    "    l_code: Dict[int, Dict[str, int]],\n",
    ") -> pd.DataFrame:\n",
    "    \n",
    "    # Copy input data\n",
    "    df = df.copy()   \n",
    "\n",
    "    # D Code\n",
    "    df['person_prefer_d_1_n'] = df['person_prefer_d_1'].apply(lambda x: d_code[x]['속성 D 세분류코드'])\n",
    "    df['person_prefer_d_1_s'] = df['person_prefer_d_1'].apply(lambda x: d_code[x]['속성 D 소분류코드'])\n",
    "    df['person_prefer_d_1_m'] = df['person_prefer_d_1'].apply(lambda x: d_code[x]['속성 D 중분류코드'])\n",
    "    df['person_prefer_d_1_l'] = df['person_prefer_d_1'].apply(lambda x: d_code[x]['속성 D 대분류코드'])\n",
    "\n",
    "    df['person_prefer_d_2_n'] = df['person_prefer_d_2'].apply(lambda x: d_code[x]['속성 D 세분류코드'])\n",
    "    df['person_prefer_d_2_s'] = df['person_prefer_d_2'].apply(lambda x: d_code[x]['속성 D 소분류코드'])\n",
    "    df['person_prefer_d_2_m'] = df['person_prefer_d_2'].apply(lambda x: d_code[x]['속성 D 중분류코드'])\n",
    "    df['person_prefer_d_2_l'] = df['person_prefer_d_2'].apply(lambda x: d_code[x]['속성 D 대분류코드'])\n",
    "\n",
    "    df['person_prefer_d_3_n'] = df['person_prefer_d_3'].apply(lambda x: d_code[x]['속성 D 세분류코드'])\n",
    "    df['person_prefer_d_3_s'] = df['person_prefer_d_3'].apply(lambda x: d_code[x]['속성 D 소분류코드'])\n",
    "    df['person_prefer_d_3_m'] = df['person_prefer_d_3'].apply(lambda x: d_code[x]['속성 D 중분류코드'])\n",
    "    df['person_prefer_d_3_l'] = df['person_prefer_d_3'].apply(lambda x: d_code[x]['속성 D 대분류코드'])\n",
    "\n",
    "    df['contents_attribute_d_n'] = df['contents_attribute_d'].apply(lambda x: d_code[x]['속성 D 세분류코드'])\n",
    "    df['contents_attribute_d_s'] = df['contents_attribute_d'].apply(lambda x: d_code[x]['속성 D 소분류코드'])\n",
    "    df['contents_attribute_d_m'] = df['contents_attribute_d'].apply(lambda x: d_code[x]['속성 D 중분류코드'])\n",
    "    df['contents_attribute_d_l'] = df['contents_attribute_d'].apply(lambda x: d_code[x]['속성 D 대분류코드'])\n",
    "\n",
    "    # H Code\n",
    "    df['person_prefer_h_1_l'] = df['person_prefer_h_1'].apply(lambda x: h_code[x]['속성 H 대분류코드'])\n",
    "    df['person_prefer_h_1_m'] = df['person_prefer_h_1'].apply(lambda x: h_code[x]['속성 H 중분류코드'])\n",
    "    \n",
    "    df['person_prefer_h_2_l'] = df['person_prefer_h_2'].apply(lambda x: h_code[x]['속성 H 대분류코드'])\n",
    "    df['person_prefer_h_2_m'] = df['person_prefer_h_2'].apply(lambda x: h_code[x]['속성 H 중분류코드'])\n",
    "    \n",
    "    df['person_prefer_h_3_l'] = df['person_prefer_h_3'].apply(lambda x: h_code[x]['속성 H 대분류코드'])\n",
    "    df['person_prefer_h_3_m'] = df['person_prefer_h_3'].apply(lambda x: h_code[x]['속성 H 중분류코드'])\n",
    "\n",
    "    df['contents_attribute_h_l'] = df['contents_attribute_h'].apply(lambda x: h_code[x]['속성 H 대분류코드'])\n",
    "    df['contents_attribute_h_m'] = df['contents_attribute_h'].apply(lambda x: h_code[x]['속성 H 중분류코드'])\n",
    "\n",
    "    # L Code\n",
    "    df['contents_attribute_l_n'] = df['contents_attribute_l'].apply(lambda x: l_code[x]['속성 L 세분류코드'])\n",
    "    df['contents_attribute_l_s'] = df['contents_attribute_l'].apply(lambda x: l_code[x]['속성 L 소분류코드'])\n",
    "    df['contents_attribute_l_m'] = df['contents_attribute_l'].apply(lambda x: l_code[x]['속성 L 중분류코드'])\n",
    "    df['contents_attribute_l_l'] = df['contents_attribute_l'].apply(lambda x: l_code[x]['속성 L 대분류코드'])\n",
    "    \n",
    "    return df"
   ]
  },
  {
   "cell_type": "code",
   "execution_count": 7,
   "metadata": {},
   "outputs": [],
   "source": [
    "d_code = pd.read_csv('data/속성_D_코드.csv', index_col=0).T.to_dict()\n",
    "h_code = pd.read_csv('data/속성_H_코드.csv', index_col=0).T.to_dict()\n",
    "l_code = pd.read_csv('data/속성_L_코드.csv', index_col=0).T.to_dict()\n",
    "\n",
    "\n",
    "train_data = add_code(train_data, d_code, h_code, l_code)\n",
    "test_data = add_code(test_data, d_code, h_code, l_code)"
   ]
  },
  {
   "cell_type": "code",
   "execution_count": 8,
   "metadata": {},
   "outputs": [
    {
     "data": {
      "text/plain": [
       "Index(['id', 'd_l_match_yn', 'd_m_match_yn', 'd_s_match_yn', 'h_l_match_yn',\n",
       "       'h_m_match_yn', 'h_s_match_yn', 'person_attribute_a',\n",
       "       'person_attribute_a_1', 'person_attribute_b', 'person_prefer_c',\n",
       "       'person_prefer_d_1', 'person_prefer_d_2', 'person_prefer_d_3',\n",
       "       'person_prefer_e', 'person_prefer_f', 'person_prefer_g',\n",
       "       'person_prefer_h_1', 'person_prefer_h_2', 'person_prefer_h_3',\n",
       "       'contents_attribute_i', 'contents_attribute_a',\n",
       "       'contents_attribute_j_1', 'contents_attribute_j',\n",
       "       'contents_attribute_c', 'contents_attribute_k', 'contents_attribute_l',\n",
       "       'contents_attribute_d', 'contents_attribute_m', 'contents_attribute_e',\n",
       "       'contents_attribute_h', 'person_rn', 'contents_rn', 'contents_open_dt',\n",
       "       'target', 'hour_band', 'person_prefer_d_1_n', 'person_prefer_d_1_s',\n",
       "       'person_prefer_d_1_m', 'person_prefer_d_1_l', 'person_prefer_d_2_n',\n",
       "       'person_prefer_d_2_s', 'person_prefer_d_2_m', 'person_prefer_d_2_l',\n",
       "       'person_prefer_d_3_n', 'person_prefer_d_3_s', 'person_prefer_d_3_m',\n",
       "       'person_prefer_d_3_l', 'contents_attribute_d_n',\n",
       "       'contents_attribute_d_s', 'contents_attribute_d_m',\n",
       "       'contents_attribute_d_l', 'person_prefer_h_1_l', 'person_prefer_h_1_m',\n",
       "       'person_prefer_h_2_l', 'person_prefer_h_2_m', 'person_prefer_h_3_l',\n",
       "       'person_prefer_h_3_m', 'contents_attribute_h_l',\n",
       "       'contents_attribute_h_m', 'contents_attribute_l_n',\n",
       "       'contents_attribute_l_s', 'contents_attribute_l_m',\n",
       "       'contents_attribute_l_l'],\n",
       "      dtype='object')"
      ]
     },
     "execution_count": 8,
     "metadata": {},
     "output_type": "execute_result"
    }
   ],
   "source": [
    "train_data.columns"
   ]
  },
  {
   "cell_type": "code",
   "execution_count": 9,
   "metadata": {},
   "outputs": [],
   "source": [
    "cols_drop = [\"id\",\"person_prefer_f\",\"person_prefer_g\" ,\"contents_open_dt\", \"contents_rn\", ]\n",
    "\n",
    "train_data = train_data.drop(columns = cols_drop)\n",
    "test_data = test_data.drop(columns = cols_drop)\n",
    "\n",
    "\n",
    "# x_train, y_train = preprocess_data(train_data, cols_merge = cols_merge , cols_equi= cols_equi , cols_drop = cols_drop)\n",
    "# x_test, _ = preprocess_data(test_data,is_train = False, cols_merge = cols_merge , cols_equi= cols_equi  , cols_drop = cols_drop)\n",
    "# x_train.shape , y_train.shape , x_test.shape"
   ]
  },
  {
   "cell_type": "code",
   "execution_count": 10,
   "metadata": {},
   "outputs": [],
   "source": [
    "# 이 부분을 추가한 모델이 성능이 조금은 더 높더라.\n",
    "# 변수 개수가 여기에서 차이가 난다.\n",
    "cols_equi = [\n",
    "\n",
    "    (\"contents_attribute_c\",\"person_prefer_c\"),\n",
    "    (\"contents_attribute_e\",\"person_prefer_e\"),\n",
    "\n",
    "    (\"person_prefer_d_2_s\" , \"contents_attribute_d_s\"),\n",
    "    (\"person_prefer_d_2_m\" , \"contents_attribute_d_m\"),\n",
    "    (\"person_prefer_d_2_l\" , \"contents_attribute_d_l\"),\n",
    "    (\"person_prefer_d_3_s\" , \"contents_attribute_d_s\"),\n",
    "    (\"person_prefer_d_3_m\" , \"contents_attribute_d_m\"),\n",
    "    (\"person_prefer_d_3_l\" , \"contents_attribute_d_l\"),\n",
    "\n",
    "    (\"person_prefer_h_1_m\" , \"contents_attribute_h_m\"),\n",
    "    (\"person_prefer_h_2_m\" , \"contents_attribute_h_m\"),\n",
    "    (\"person_prefer_h_3_m\" , \"contents_attribute_h_m\"),\n",
    "    (\"person_prefer_h_1_l\" , \"contents_attribute_h_l\"),\n",
    "    (\"person_prefer_h_2_l\" , \"contents_attribute_h_l\"),\n",
    "    (\"person_prefer_h_3_l\" , \"contents_attribute_h_l\"),\n",
    "]\n",
    "\n",
    "    "
   ]
  },
  {
   "cell_type": "code",
   "execution_count": 11,
   "metadata": {},
   "outputs": [],
   "source": [
    "bool_cols = ['d_l_match_yn',\t'd_m_match_yn',\t'd_s_match_yn'\t,'h_l_match_yn','h_m_match_yn',\t'h_s_match_yn',\t'person_attribute_a']\n",
    "def preprocess_data(\n",
    "                    df:pd.DataFrame,\n",
    "                    cols_equi:List[Tuple[str,str]]= [] )->Tuple[pd.DataFrame,np.ndarray]:\n",
    "    df = df.copy()\n",
    "\n",
    "\n",
    "    cols = df.select_dtypes(bool).columns.tolist()\n",
    "    df[cols] = df[cols].astype(int)\n",
    "\n",
    "    for col1, col2 in cols_equi:\n",
    "        df[f\"{col1}_{col2}\"] = (df[col1] == df[col2] ).astype(int)\n",
    "\n",
    "    return (df)"
   ]
  },
  {
   "cell_type": "code",
   "execution_count": 12,
   "metadata": {},
   "outputs": [
    {
     "data": {
      "text/plain": [
       "Index(['d_l_match_yn', 'd_m_match_yn', 'd_s_match_yn', 'h_l_match_yn',\n",
       "       'h_m_match_yn', 'h_s_match_yn', 'person_attribute_a',\n",
       "       'person_attribute_a_1', 'person_attribute_b', 'person_prefer_c',\n",
       "       'person_prefer_d_1', 'person_prefer_d_2', 'person_prefer_d_3',\n",
       "       'person_prefer_e', 'person_prefer_h_1', 'person_prefer_h_2',\n",
       "       'person_prefer_h_3', 'contents_attribute_i', 'contents_attribute_a',\n",
       "       'contents_attribute_j_1', 'contents_attribute_j',\n",
       "       'contents_attribute_c', 'contents_attribute_k', 'contents_attribute_l',\n",
       "       'contents_attribute_d', 'contents_attribute_m', 'contents_attribute_e',\n",
       "       'contents_attribute_h', 'person_rn', 'target', 'hour_band',\n",
       "       'person_prefer_d_1_n', 'person_prefer_d_1_s', 'person_prefer_d_1_m',\n",
       "       'person_prefer_d_1_l', 'person_prefer_d_2_n', 'person_prefer_d_2_s',\n",
       "       'person_prefer_d_2_m', 'person_prefer_d_2_l', 'person_prefer_d_3_n',\n",
       "       'person_prefer_d_3_s', 'person_prefer_d_3_m', 'person_prefer_d_3_l',\n",
       "       'contents_attribute_d_n', 'contents_attribute_d_s',\n",
       "       'contents_attribute_d_m', 'contents_attribute_d_l',\n",
       "       'person_prefer_h_1_l', 'person_prefer_h_1_m', 'person_prefer_h_2_l',\n",
       "       'person_prefer_h_2_m', 'person_prefer_h_3_l', 'person_prefer_h_3_m',\n",
       "       'contents_attribute_h_l', 'contents_attribute_h_m',\n",
       "       'contents_attribute_l_n', 'contents_attribute_l_s',\n",
       "       'contents_attribute_l_m', 'contents_attribute_l_l',\n",
       "       'contents_attribute_c_person_prefer_c',\n",
       "       'contents_attribute_e_person_prefer_e',\n",
       "       'person_prefer_d_2_s_contents_attribute_d_s',\n",
       "       'person_prefer_d_2_m_contents_attribute_d_m',\n",
       "       'person_prefer_d_2_l_contents_attribute_d_l',\n",
       "       'person_prefer_d_3_s_contents_attribute_d_s',\n",
       "       'person_prefer_d_3_m_contents_attribute_d_m',\n",
       "       'person_prefer_d_3_l_contents_attribute_d_l',\n",
       "       'person_prefer_h_1_m_contents_attribute_h_m',\n",
       "       'person_prefer_h_2_m_contents_attribute_h_m',\n",
       "       'person_prefer_h_3_m_contents_attribute_h_m',\n",
       "       'person_prefer_h_1_l_contents_attribute_h_l',\n",
       "       'person_prefer_h_2_l_contents_attribute_h_l',\n",
       "       'person_prefer_h_3_l_contents_attribute_h_l'],\n",
       "      dtype='object')"
      ]
     },
     "execution_count": 12,
     "metadata": {},
     "output_type": "execute_result"
    }
   ],
   "source": [
    "preprocess_data(train_data, cols_equi).columns"
   ]
  },
  {
   "cell_type": "code",
   "execution_count": 13,
   "metadata": {},
   "outputs": [],
   "source": [
    "y_train = train_data.pop('target')\n",
    "x_train = train_data\n",
    "x_test = test_data"
   ]
  },
  {
   "cell_type": "code",
   "execution_count": 14,
   "metadata": {},
   "outputs": [],
   "source": [
    "cat_features = x_train.columns[x_train.nunique() > 2].tolist()"
   ]
  },
  {
   "cell_type": "code",
   "execution_count": 15,
   "metadata": {},
   "outputs": [
    {
     "data": {
      "text/plain": [
       "['person_attribute_a_1',\n",
       " 'person_attribute_b',\n",
       " 'person_prefer_c',\n",
       " 'person_prefer_d_1',\n",
       " 'person_prefer_d_2',\n",
       " 'person_prefer_d_3',\n",
       " 'person_prefer_e',\n",
       " 'person_prefer_h_1',\n",
       " 'person_prefer_h_2',\n",
       " 'person_prefer_h_3',\n",
       " 'contents_attribute_i',\n",
       " 'contents_attribute_a',\n",
       " 'contents_attribute_j_1',\n",
       " 'contents_attribute_c',\n",
       " 'contents_attribute_l',\n",
       " 'contents_attribute_d',\n",
       " 'contents_attribute_m',\n",
       " 'contents_attribute_e',\n",
       " 'contents_attribute_h',\n",
       " 'person_rn',\n",
       " 'hour_band',\n",
       " 'person_prefer_d_1_n',\n",
       " 'person_prefer_d_1_s',\n",
       " 'person_prefer_d_1_m',\n",
       " 'person_prefer_d_1_l',\n",
       " 'person_prefer_d_2_n',\n",
       " 'person_prefer_d_2_s',\n",
       " 'person_prefer_d_2_m',\n",
       " 'person_prefer_d_2_l',\n",
       " 'person_prefer_d_3_n',\n",
       " 'person_prefer_d_3_s',\n",
       " 'person_prefer_d_3_m',\n",
       " 'person_prefer_d_3_l',\n",
       " 'contents_attribute_d_n',\n",
       " 'contents_attribute_d_s',\n",
       " 'contents_attribute_d_m',\n",
       " 'contents_attribute_d_l',\n",
       " 'person_prefer_h_1_l',\n",
       " 'person_prefer_h_1_m',\n",
       " 'person_prefer_h_2_l',\n",
       " 'person_prefer_h_2_m',\n",
       " 'person_prefer_h_3_l',\n",
       " 'person_prefer_h_3_m',\n",
       " 'contents_attribute_h_l',\n",
       " 'contents_attribute_h_m',\n",
       " 'contents_attribute_l_n',\n",
       " 'contents_attribute_l_s',\n",
       " 'contents_attribute_l_m',\n",
       " 'contents_attribute_l_l']"
      ]
     },
     "execution_count": 15,
     "metadata": {},
     "output_type": "execute_result"
    }
   ],
   "source": [
    "cat_features"
   ]
  },
  {
   "cell_type": "code",
   "execution_count": 16,
   "metadata": {},
   "outputs": [],
   "source": [
    "is_holdout = False\n",
    "n_splits = 5 # 기존 5\n",
    "iterations = 10000 # 기존 3000\n",
    "patience = 100 # 기존 50\n",
    "\n",
    "cv = KFold(n_splits=n_splits, shuffle=True, random_state=SEED)"
   ]
  },
  {
   "cell_type": "code",
   "execution_count": 17,
   "metadata": {},
   "outputs": [
    {
     "name": "stdout",
     "output_type": "stream",
     "text": [
      "==================================================\n",
      "Learning rate set to 0.016489\n",
      "0:\tlearn: 0.6250973\ttest: 0.6310243\tbest: 0.6310243 (0)\ttotal: 48.6ms\tremaining: 8m 6s\n",
      "100:\tlearn: 0.6398589\ttest: 0.6492801\tbest: 0.6493034 (99)\ttotal: 3.66s\tremaining: 5m 58s\n",
      "200:\tlearn: 0.6461036\ttest: 0.6578127\tbest: 0.6578815 (199)\ttotal: 7.47s\tremaining: 6m 4s\n",
      "300:\tlearn: 0.6521393\ttest: 0.6676134\tbest: 0.6676950 (299)\ttotal: 11.2s\tremaining: 6m 1s\n",
      "400:\tlearn: 0.6566288\ttest: 0.6757715\tbest: 0.6758713 (399)\ttotal: 15s\tremaining: 5m 59s\n",
      "500:\tlearn: 0.6596450\ttest: 0.6794660\tbest: 0.6794660 (500)\ttotal: 18.7s\tremaining: 5m 53s\n",
      "600:\tlearn: 0.6616503\ttest: 0.6823343\tbest: 0.6823343 (600)\ttotal: 22.3s\tremaining: 5m 49s\n",
      "700:\tlearn: 0.6639550\ttest: 0.6843749\tbest: 0.6843749 (700)\ttotal: 26.1s\tremaining: 5m 45s\n",
      "800:\tlearn: 0.6659311\ttest: 0.6848331\tbest: 0.6851108 (745)\ttotal: 29.7s\tremaining: 5m 41s\n",
      "900:\tlearn: 0.6680394\ttest: 0.6856772\tbest: 0.6857980 (872)\ttotal: 33.4s\tremaining: 5m 37s\n",
      "1000:\tlearn: 0.6699730\ttest: 0.6851630\tbest: 0.6859344 (932)\ttotal: 37.1s\tremaining: 5m 33s\n",
      "bestTest = 0.6859343805\n",
      "bestIteration = 932\n",
      "Shrink model to first 933 iterations.\n",
      "==================================================\n",
      "Learning rate set to 0.016489\n",
      "0:\tlearn: 0.6066460\ttest: 0.6109229\tbest: 0.6109229 (0)\ttotal: 46.6ms\tremaining: 7m 46s\n",
      "100:\tlearn: 0.6392639\ttest: 0.6500434\tbest: 0.6500434 (100)\ttotal: 3.72s\tremaining: 6m 4s\n",
      "200:\tlearn: 0.6440610\ttest: 0.6565599\tbest: 0.6565599 (200)\ttotal: 7.54s\tremaining: 6m 7s\n",
      "300:\tlearn: 0.6513829\ttest: 0.6695309\tbest: 0.6695309 (300)\ttotal: 11.3s\tremaining: 6m 5s\n",
      "400:\tlearn: 0.6549260\ttest: 0.6757834\tbest: 0.6758028 (399)\ttotal: 15.1s\tremaining: 6m 2s\n",
      "500:\tlearn: 0.6585928\ttest: 0.6802746\tbest: 0.6802821 (499)\ttotal: 18.8s\tremaining: 5m 57s\n",
      "600:\tlearn: 0.6610957\ttest: 0.6827530\tbest: 0.6827627 (589)\ttotal: 22.5s\tremaining: 5m 51s\n",
      "700:\tlearn: 0.6631734\ttest: 0.6834665\tbest: 0.6835800 (645)\ttotal: 26.2s\tremaining: 5m 47s\n",
      "800:\tlearn: 0.6652506\ttest: 0.6845740\tbest: 0.6845760 (797)\ttotal: 29.8s\tremaining: 5m 42s\n",
      "900:\tlearn: 0.6673056\ttest: 0.6852229\tbest: 0.6854523 (892)\ttotal: 33.5s\tremaining: 5m 38s\n",
      "bestTest = 0.6854522985\n",
      "bestIteration = 892\n",
      "Shrink model to first 893 iterations.\n",
      "==================================================\n",
      "Learning rate set to 0.016489\n",
      "0:\tlearn: 0.6014325\ttest: 0.5992059\tbest: 0.5992059 (0)\ttotal: 37.9ms\tremaining: 6m 18s\n",
      "100:\tlearn: 0.6416762\ttest: 0.6474162\tbest: 0.6474712 (99)\ttotal: 3.71s\tremaining: 6m 3s\n",
      "200:\tlearn: 0.6472957\ttest: 0.6564756\tbest: 0.6564756 (200)\ttotal: 7.51s\tremaining: 6m 6s\n",
      "300:\tlearn: 0.6545350\ttest: 0.6678695\tbest: 0.6678695 (300)\ttotal: 11.3s\tremaining: 6m 4s\n",
      "400:\tlearn: 0.6581865\ttest: 0.6739784\tbest: 0.6740910 (399)\ttotal: 15.1s\tremaining: 6m 1s\n",
      "500:\tlearn: 0.6607760\ttest: 0.6790035\tbest: 0.6790218 (497)\ttotal: 18.8s\tremaining: 5m 57s\n",
      "600:\tlearn: 0.6629231\ttest: 0.6807383\tbest: 0.6807383 (600)\ttotal: 22.5s\tremaining: 5m 52s\n",
      "700:\tlearn: 0.6645947\ttest: 0.6824545\tbest: 0.6824545 (700)\ttotal: 26.2s\tremaining: 5m 48s\n",
      "800:\tlearn: 0.6666603\ttest: 0.6834956\tbest: 0.6834956 (800)\ttotal: 30s\tremaining: 5m 44s\n",
      "900:\tlearn: 0.6685832\ttest: 0.6826035\tbest: 0.6834956 (800)\ttotal: 33.6s\tremaining: 5m 39s\n",
      "bestTest = 0.6834956215\n",
      "bestIteration = 800\n",
      "Shrink model to first 801 iterations.\n",
      "==================================================\n",
      "Learning rate set to 0.016489\n",
      "0:\tlearn: 0.6074901\ttest: 0.6072840\tbest: 0.6072840 (0)\ttotal: 47.6ms\tremaining: 7m 55s\n",
      "100:\tlearn: 0.6402772\ttest: 0.6424049\tbest: 0.6426040 (99)\ttotal: 3.74s\tremaining: 6m 6s\n",
      "200:\tlearn: 0.6457146\ttest: 0.6512293\tbest: 0.6512524 (199)\ttotal: 7.51s\tremaining: 6m 5s\n",
      "300:\tlearn: 0.6522187\ttest: 0.6631685\tbest: 0.6631685 (300)\ttotal: 11.3s\tremaining: 6m 3s\n",
      "400:\tlearn: 0.6563625\ttest: 0.6701406\tbest: 0.6701406 (400)\ttotal: 15.1s\tremaining: 6m\n",
      "500:\tlearn: 0.6597899\ttest: 0.6733582\tbest: 0.6733582 (500)\ttotal: 18.8s\tremaining: 5m 57s\n",
      "600:\tlearn: 0.6623845\ttest: 0.6756447\tbest: 0.6758728 (594)\ttotal: 22.5s\tremaining: 5m 52s\n",
      "700:\tlearn: 0.6645506\ttest: 0.6765164\tbest: 0.6767443 (694)\ttotal: 26.2s\tremaining: 5m 47s\n",
      "800:\tlearn: 0.6662463\ttest: 0.6775055\tbest: 0.6775055 (800)\ttotal: 29.9s\tremaining: 5m 43s\n",
      "900:\tlearn: 0.6679566\ttest: 0.6776660\tbest: 0.6784603 (860)\ttotal: 33.5s\tremaining: 5m 38s\n",
      "1000:\tlearn: 0.6696795\ttest: 0.6779255\tbest: 0.6786485 (957)\ttotal: 37.2s\tremaining: 5m 34s\n",
      "bestTest = 0.6786484681\n",
      "bestIteration = 957\n",
      "Shrink model to first 958 iterations.\n",
      "==================================================\n",
      "Learning rate set to 0.016489\n",
      "0:\tlearn: 0.6109109\ttest: 0.6053182\tbest: 0.6053182 (0)\ttotal: 35.5ms\tremaining: 5m 55s\n",
      "100:\tlearn: 0.6412864\ttest: 0.6448252\tbest: 0.6448919 (99)\ttotal: 3.74s\tremaining: 6m 6s\n",
      "200:\tlearn: 0.6459370\ttest: 0.6511539\tbest: 0.6511788 (199)\ttotal: 7.55s\tremaining: 6m 7s\n",
      "300:\tlearn: 0.6530508\ttest: 0.6625066\tbest: 0.6625066 (300)\ttotal: 11.3s\tremaining: 6m 5s\n",
      "400:\tlearn: 0.6569845\ttest: 0.6704165\tbest: 0.6704165 (400)\ttotal: 15.1s\tremaining: 6m 1s\n",
      "500:\tlearn: 0.6601058\ttest: 0.6736694\tbest: 0.6736694 (500)\ttotal: 18.8s\tremaining: 5m 55s\n",
      "600:\tlearn: 0.6629598\ttest: 0.6759425\tbest: 0.6759425 (600)\ttotal: 22.4s\tremaining: 5m 51s\n",
      "700:\tlearn: 0.6651792\ttest: 0.6774802\tbest: 0.6777004 (690)\ttotal: 26.1s\tremaining: 5m 46s\n",
      "800:\tlearn: 0.6671476\ttest: 0.6787141\tbest: 0.6788567 (797)\ttotal: 29.8s\tremaining: 5m 42s\n",
      "900:\tlearn: 0.6689538\ttest: 0.6791106\tbest: 0.6791605 (898)\ttotal: 33.4s\tremaining: 5m 37s\n",
      "1000:\tlearn: 0.6705619\ttest: 0.6793207\tbest: 0.6794233 (999)\ttotal: 37.1s\tremaining: 5m 33s\n",
      "1100:\tlearn: 0.6717979\ttest: 0.6799632\tbest: 0.6799889 (1055)\ttotal: 40.8s\tremaining: 5m 29s\n",
      "1200:\tlearn: 0.6729526\ttest: 0.6801887\tbest: 0.6802686 (1187)\ttotal: 44.5s\tremaining: 5m 25s\n",
      "1300:\tlearn: 0.6742297\ttest: 0.6801332\tbest: 0.6804808 (1241)\ttotal: 48.1s\tremaining: 5m 21s\n",
      "bestTest = 0.6804807692\n",
      "bestIteration = 1241\n",
      "Shrink model to first 1242 iterations.\n"
     ]
    }
   ],
   "source": [
    "scores = []\n",
    "models = []\n",
    "\n",
    "\n",
    "models = []\n",
    "for tri, vai in cv.split(x_train):\n",
    "    print(\"=\"*50)\n",
    "    preds = []\n",
    "\n",
    "    model = CatBoostClassifier(iterations=iterations,\n",
    "                               random_state=SEED,\n",
    "                               task_type=\"GPU\",\n",
    "                               eval_metric=\"F1\",\n",
    "                               cat_features=cat_features,\n",
    "                               one_hot_max_size=4,\n",
    "                               bagging_temperature=0.2,\n",
    "#                               depth=10,\n",
    "# depth default 값을 모르겠지만 학습이 엄청 오래걸리게 된다.\n",
    "                               use_best_model=True)\n",
    "    model.fit(x_train.iloc[tri], y_train[tri], \n",
    "            eval_set=[(x_train.iloc[vai], y_train[vai])], \n",
    "            early_stopping_rounds=patience ,\n",
    "            verbose = 100\n",
    "        )\n",
    "    \n",
    "    models.append(model)\n",
    "    scores.append(model.get_best_score()[\"validation\"][\"F1\"])\n",
    "    if is_holdout:\n",
    "        break    "
   ]
  },
  {
   "cell_type": "code",
   "execution_count": 18,
   "metadata": {},
   "outputs": [
    {
     "name": "stdout",
     "output_type": "stream",
     "text": [
      "[0.6859343805326402, 0.6854522985198532, 0.6834956215181879, 0.6786484680729216, 0.6804807692307691]\n",
      "0.6828023075748744\n"
     ]
    }
   ],
   "source": [
    "print(scores)\n",
    "print(np.mean(scores))\n",
    "\n",
    "# hyperparemeter 수정 X\n",
    "# 결과 0.75 이전꺼"
   ]
  },
  {
   "cell_type": "code",
   "execution_count": 31,
   "metadata": {},
   "outputs": [],
   "source": [
    "threshold = 0.38"
   ]
  },
  {
   "cell_type": "code",
   "execution_count": 35,
   "metadata": {},
   "outputs": [
    {
     "name": "stdout",
     "output_type": "stream",
     "text": [
      "[0.7132312176268394, 0.7115360323375229, 0.7089711051909767, 0.7111093388627484, 0.7120343608209136]\n",
      "0.7113764109678002\n"
     ]
    }
   ],
   "source": [
    "pred_list = []\n",
    "scores = []\n",
    "for i,(tri, vai) in enumerate( cv.split(x_train) ):\n",
    "    pred = models[i].predict_proba(x_train.iloc[vai])[:, 1]\n",
    "    pred = np.where(pred >= threshold , 1, 0)\n",
    "    score = f1_score(y_train[vai],pred)\n",
    "    scores.append(score)\n",
    "    pred = models[i].predict_proba(x_test)[:, 1]\n",
    "    pred_list.append(pred)\n",
    "print(scores)\n",
    "print(np.mean(scores))"
   ]
  },
  {
   "cell_type": "code",
   "execution_count": 36,
   "metadata": {},
   "outputs": [],
   "source": [
    "pred = np.mean( pred_list , axis = 0 )\n",
    "pred = np.where(pred >= threshold , 1, 0)"
   ]
  },
  {
   "cell_type": "code",
   "execution_count": 37,
   "metadata": {},
   "outputs": [
    {
     "name": "stdout",
     "output_type": "stream",
     "text": [
      "target 1 개수 :  35936\n"
     ]
    }
   ],
   "source": [
    "sample_submission = pd.read_csv(f'{DATA_PATH}sample_submission.csv')\n",
    "sample_submission['target'] = pred\n",
    "sample_submission\n",
    "print('target 1 개수 : ',sum(sample_submission['target']))"
   ]
  },
  {
   "cell_type": "code",
   "execution_count": 38,
   "metadata": {},
   "outputs": [],
   "source": [
    "sample_submission.to_csv(f\"{SUBMIT_PATH}catboost-made2.csv\", index=False)"
   ]
  },
  {
   "cell_type": "code",
   "execution_count": null,
   "metadata": {},
   "outputs": [],
   "source": []
  }
 ],
 "metadata": {
  "interpreter": {
   "hash": "c97dde18f122f9d21c34c8255baf2515d19df3edbb55cbf82035c58b5acf6190"
  },
  "kernelspec": {
   "display_name": "Python 3",
   "language": "python",
   "name": "python3"
  },
  "language_info": {
   "codemirror_mode": {
    "name": "ipython",
    "version": 3
   },
   "file_extension": ".py",
   "mimetype": "text/x-python",
   "name": "python",
   "nbconvert_exporter": "python",
   "pygments_lexer": "ipython3",
   "version": "3.8.5"
  }
 },
 "nbformat": 4,
 "nbformat_minor": 2
}
